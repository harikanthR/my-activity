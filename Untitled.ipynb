{
 "cells": [
  {
   "cell_type": "code",
   "execution_count": 1,
   "id": "6f614840",
   "metadata": {},
   "outputs": [
    {
     "ename": "SyntaxError",
     "evalue": "invalid syntax (218807227.py, line 36)",
     "output_type": "error",
     "traceback": [
      "\u001b[1;36m  File \u001b[1;32m\"C:\\Users\\User\\AppData\\Local\\Temp\\ipykernel_2332\\218807227.py\"\u001b[1;36m, line \u001b[1;32m36\u001b[0m\n\u001b[1;33m    This code loads an image, converts it to grayscale, applies edge detection, finds contours, fits a line to the largest contour using least squares, calculates the angle of the line, and finally calculates the tangent of the angle. The result is displayed in a window. Note that this code assumes that there is only one angle in the image and that it is the angle of the largest contour.\u001b[0m\n\u001b[1;37m         ^\u001b[0m\n\u001b[1;31mSyntaxError\u001b[0m\u001b[1;31m:\u001b[0m invalid syntax\n"
     ]
    }
   ],
   "source": [
    "import cv2\n",
    "import numpy as np\n",
    "\n",
    "# Load the image\n",
    "img = cv2.imread(\"C://Users//User//Downloads//002.jpg\")\n",
    "\n",
    "# Convert the image to grayscale\n",
    "gray = cv2.cvtColor(img, cv2.COLOR_BGR2GRAY)\n",
    "\n",
    "# Apply edge detection\n",
    "edges = cv2.Canny(gray, 100, 200)\n",
    "\n",
    "# Find contours\n",
    "contours, hierarchy = cv2.findContours(edges, cv2.RETR_TREE, cv2.CHAIN_APPROX_SIMPLE)\n",
    "\n",
    "# Find the contour with the largest area\n",
    "cnt = max(contours, key=cv2.contourArea)\n",
    "\n",
    "# Fit a line to the contour using least squares\n",
    "rows,cols = img.shape[:2]\n",
    "[vx,vy,x,y] = cv2.fitLine(cnt, cv2.DIST_L2, 0, 0.01, 0.01)\n",
    "lefty = int((-x*vy/vx) + y)\n",
    "righty = int(((cols-x)*vy/vx)+y)\n",
    "cv2.line(img,(cols-1,righty),(0,lefty),(0,255,0),2)\n",
    "\n",
    "# Calculate the angle of the line\n",
    "angle = np.arctan2(vy, vx) * 180 / np.pi\n",
    "\n",
    "# Calculate the tangent of the angle\n",
    "tangent = np.tan(angle)\n",
    "\n",
    "# Display the result\n",
    "cv2.imshow('Result', img)\n",
    "cv2.waitKey(0)\n",
    "cv2.destroyAllWindows()\n",
    "#This code loads an image, converts it to grayscale, applies edge detection, finds contours, fits a line to the l using least squares, calculates the angle of the line, and finally calculates the tangent of the angle. The result is displayed in a window. Note that this code assumes that there is only one angle in the image and that it is the angle of the largest contour.\n",
    "import cv2\n",
    "import numpy as np\n",
    "\n",
    "# Load the image\n",
    "img = cv2.imread(\"C://Users//User//Downloads//002.jpg\")\n",
    "\n",
    "# Convert the image to grayscale\n",
    "gray = cv2.cvtColor(img, cv2.COLOR_BGR2GRAY)\n",
    "\n",
    "# Apply edge detection\n",
    "edges = cv2.Canny(gray, 100, 200)\n",
    "\n",
    "# Find contours\n",
    "contours, hierarchy = cv2.findContours(edges, cv2.RETR_TREE, cv2.CHAIN_APPROX_SIMPLE)\n",
    "\n",
    "# Find the contour with the largest area\n",
    "cnt = max(contours, key=cv2.contourArea)\n",
    "\n",
    "# Fit a rectangle to the contour\n",
    "x, y, w, h = cv2.boundingRect(cnt)\n",
    "cv2.rectangle(img, (x, y), (x + w, y + h), (0, 255, 0), 2)\n",
    "\n",
    "# Estimate the height of the object relative to other objects in the image\n",
    "height_estimate = h / 10.0  # Assuming other objects in the image are roughly 10 times smaller than the object of interest\n",
    "\n",
    "# Display the result\n",
    "cv2.imshow('Result', img)\n",
    "cv2.waitKey(0)\n",
    "cv2.destroyAllWindows()"
   ]
  },
  {
   "cell_type": "code",
   "execution_count": null,
   "id": "0c5aee13",
   "metadata": {},
   "outputs": [],
   "source": []
  }
 ],
 "metadata": {
  "kernelspec": {
   "display_name": "Python 3 (ipykernel)",
   "language": "python",
   "name": "python3"
  },
  "language_info": {
   "codemirror_mode": {
    "name": "ipython",
    "version": 3
   },
   "file_extension": ".py",
   "mimetype": "text/x-python",
   "name": "python",
   "nbconvert_exporter": "python",
   "pygments_lexer": "ipython3",
   "version": "3.9.13"
  }
 },
 "nbformat": 4,
 "nbformat_minor": 5
}
